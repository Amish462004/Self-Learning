{
 "cells": [
  {
   "cell_type": "code",
   "execution_count": 2,
   "metadata": {
    "id": "PbOxqL6StqVr"
   },
   "outputs": [],
   "source": [
    "import numpy as np\n",
    "import matplotlib.pyplot as plt\n",
    "import pandas as pd\n",
    "\n",
    "import torch\n",
    "import torchvision\n",
    "import torch.nn as nn\n",
    "import torch.nn.functional as F\n",
    "from torchvision.datasets import CIFAR100\n",
    "from torchvision.utils import make_grid\n",
    "from torch.utils.data.dataloader import DataLoader\n",
    "from torch.utils.data import random_split, ConcatDataset\n",
    "import torchvision.transforms as tt"
   ]
  },
  {
   "cell_type": "code",
   "execution_count": 3,
   "metadata": {
    "id": "6AbkAofyuFrZ"
   },
   "outputs": [],
   "source": [
    "stats = ((0.5074,0.4867,0.4411),(0.2011,0.1987,0.2025))\n",
    "train_transform = tt.Compose([\n",
    "    tt.RandomHorizontalFlip(),\n",
    "    tt.RandomCrop(32, padding=4, padding_mode=\"reflect\"),\n",
    "    tt.ToTensor(),\n",
    "    tt.Normalize(*stats)\n",
    "])\n",
    "\n",
    "test_transform = tt.Compose([\n",
    "    tt.ToTensor(),\n",
    "    tt.Normalize(*stats)\n",
    "])"
   ]
  },
  {
   "cell_type": "code",
   "execution_count": 4,
   "metadata": {
    "colab": {
     "base_uri": "https://localhost:8080/"
    },
    "id": "YiOd2MO7uUwP",
    "outputId": "6a687fcb-8e57-4ce1-815f-5ce4613cff98"
   },
   "outputs": [
    {
     "name": "stdout",
     "output_type": "stream",
     "text": [
      "Files already downloaded and verified\n"
     ]
    }
   ],
   "source": [
    "train_data = CIFAR100(download=True, root=\"./data\", transform=train_transform)\n",
    "test_data = CIFAR100(root=\"./data\", train=False, transform=test_transform)"
   ]
  },
  {
   "cell_type": "code",
   "execution_count": 5,
   "metadata": {
    "colab": {
     "base_uri": "https://localhost:8080/"
    },
    "id": "lBVuZPIMxGlk",
    "outputId": "53e64179-6b23-4eb8-ddfc-7acbd5821405"
   },
   "outputs": [
    {
     "name": "stdout",
     "output_type": "stream",
     "text": [
      "Image shape:  torch.Size([3, 32, 32])\n",
      "Image tensor:  tensor([[[ 2.4300,  2.4495,  2.4300,  ...,  0.9090,  0.5385,  0.2850],\n",
      "         [ 2.4300,  2.4495,  2.4300,  ...,  0.3240,  0.5190,  0.4800],\n",
      "         [ 2.4300,  2.4495,  2.4300,  ...,  0.1875,  0.9285,  0.9675],\n",
      "         ...,\n",
      "         [ 0.2460,  0.3630,  0.2460,  ..., -1.6846, -1.9381, -1.2556],\n",
      "         [ 0.5970,  0.4605,  0.5970,  ..., -1.0216, -1.5676, -1.1581],\n",
      "         [ 0.8115,  0.6750,  0.8115,  ..., -0.4756, -1.0996, -0.9436]],\n",
      "\n",
      "        [[ 2.5636,  2.5833,  2.5636,  ...,  0.8268,  0.7873,  0.5505],\n",
      "         [ 2.5636,  2.5833,  2.5636,  ..., -0.3179,  0.5110,  0.6886],\n",
      "         [ 2.5833,  2.5833,  2.5833,  ..., -0.5350,  0.7478,  1.2018],\n",
      "         ...,\n",
      "         [ 1.1426,  1.2018,  1.1426,  ..., -1.8179, -2.1139, -1.2258],\n",
      "         [ 1.5373,  1.3794,  1.5373,  ..., -1.2258, -1.7784, -1.2653],\n",
      "         [ 1.7149,  1.5767,  1.7149,  ..., -0.7324, -1.3442, -1.1271]],\n",
      "\n",
      "        [[ 2.7406,  2.7600,  2.7406,  ...,  0.3199,  0.1069,  0.0294],\n",
      "         [ 2.7406,  2.7600,  2.7406,  ..., -0.6677,  0.3199,  0.7072],\n",
      "         [ 2.7406,  2.7600,  2.7406,  ..., -0.8614,  0.7072,  1.4044],\n",
      "         ...,\n",
      "         [-1.0744, -0.6484, -1.0744,  ..., -2.1008, -2.1589, -1.8878],\n",
      "         [-0.9389, -0.9195, -0.9389,  ..., -1.5392, -2.0233, -1.8491],\n",
      "         [-0.3966, -0.5709, -0.3966,  ..., -1.0163, -1.6748, -1.5973]]])\n",
      "Label:  19\n"
     ]
    }
   ],
   "source": [
    "for image, label in train_data:\n",
    "    print(\"Image shape: \",image.shape)\n",
    "    print(\"Image tensor: \", image)\n",
    "    print(\"Label: \", label)\n",
    "    break"
   ]
  },
  {
   "cell_type": "code",
   "execution_count": 6,
   "metadata": {
    "colab": {
     "base_uri": "https://localhost:8080/"
    },
    "id": "fDGcT4foxAWS",
    "outputId": "1530428b-601c-421e-bc67-ea12eb8872b1"
   },
   "outputs": [
    {
     "data": {
      "text/plain": [
       "{'cattle': 500,\n",
       " 'dinosaur': 500,\n",
       " 'apple': 500,\n",
       " 'boy': 500,\n",
       " 'aquarium_fish': 500,\n",
       " 'telephone': 500,\n",
       " 'train': 500,\n",
       " 'cup': 500,\n",
       " 'cloud': 500,\n",
       " 'elephant': 500,\n",
       " 'keyboard': 500,\n",
       " 'willow_tree': 500,\n",
       " 'sunflower': 500,\n",
       " 'castle': 500,\n",
       " 'sea': 500,\n",
       " 'bicycle': 500,\n",
       " 'wolf': 500,\n",
       " 'squirrel': 500,\n",
       " 'shrew': 500,\n",
       " 'pine_tree': 500,\n",
       " 'rose': 500,\n",
       " 'television': 500,\n",
       " 'table': 500,\n",
       " 'possum': 500,\n",
       " 'oak_tree': 500,\n",
       " 'leopard': 500,\n",
       " 'maple_tree': 500,\n",
       " 'rabbit': 500,\n",
       " 'chimpanzee': 500,\n",
       " 'clock': 500,\n",
       " 'streetcar': 500,\n",
       " 'cockroach': 500,\n",
       " 'snake': 500,\n",
       " 'lobster': 500,\n",
       " 'mountain': 500,\n",
       " 'palm_tree': 500,\n",
       " 'skyscraper': 500,\n",
       " 'tractor': 500,\n",
       " 'shark': 500,\n",
       " 'butterfly': 500,\n",
       " 'bottle': 500,\n",
       " 'bee': 500,\n",
       " 'chair': 500,\n",
       " 'woman': 500,\n",
       " 'hamster': 500,\n",
       " 'otter': 500,\n",
       " 'seal': 500,\n",
       " 'lion': 500,\n",
       " 'mushroom': 500,\n",
       " 'girl': 500,\n",
       " 'sweet_pepper': 500,\n",
       " 'forest': 500,\n",
       " 'crocodile': 500,\n",
       " 'orange': 500,\n",
       " 'tulip': 500,\n",
       " 'mouse': 500,\n",
       " 'camel': 500,\n",
       " 'caterpillar': 500,\n",
       " 'man': 500,\n",
       " 'skunk': 500,\n",
       " 'kangaroo': 500,\n",
       " 'raccoon': 500,\n",
       " 'snail': 500,\n",
       " 'rocket': 500,\n",
       " 'whale': 500,\n",
       " 'worm': 500,\n",
       " 'turtle': 500,\n",
       " 'beaver': 500,\n",
       " 'plate': 500,\n",
       " 'wardrobe': 500,\n",
       " 'road': 500,\n",
       " 'fox': 500,\n",
       " 'flatfish': 500,\n",
       " 'tiger': 500,\n",
       " 'ray': 500,\n",
       " 'dolphin': 500,\n",
       " 'poppy': 500,\n",
       " 'porcupine': 500,\n",
       " 'lamp': 500,\n",
       " 'crab': 500,\n",
       " 'motorcycle': 500,\n",
       " 'spider': 500,\n",
       " 'tank': 500,\n",
       " 'orchid': 500,\n",
       " 'lizard': 500,\n",
       " 'beetle': 500,\n",
       " 'bridge': 500,\n",
       " 'baby': 500,\n",
       " 'lawn_mower': 500,\n",
       " 'house': 500,\n",
       " 'bus': 500,\n",
       " 'couch': 500,\n",
       " 'bowl': 500,\n",
       " 'pear': 500,\n",
       " 'bed': 500,\n",
       " 'plain': 500,\n",
       " 'trout': 500,\n",
       " 'bear': 500,\n",
       " 'pickup_truck': 500,\n",
       " 'can': 500}"
      ]
     },
     "execution_count": 6,
     "metadata": {},
     "output_type": "execute_result"
    }
   ],
   "source": [
    "train_classes_items = dict()\n",
    "\n",
    "for train_item in train_data:\n",
    "    label = train_data.classes[train_item[1]]\n",
    "    if label not in train_classes_items:\n",
    "        train_classes_items[label] = 1\n",
    "    else:\n",
    "        train_classes_items[label] += 1\n",
    "\n",
    "train_classes_items"
   ]
  },
  {
   "cell_type": "code",
   "execution_count": 7,
   "metadata": {
    "colab": {
     "base_uri": "https://localhost:8080/"
    },
    "id": "590jI9pyxNCi",
    "outputId": "de6e723d-3a85-423e-a7ee-4ef06dffb940"
   },
   "outputs": [
    {
     "data": {
      "text/plain": [
       "{'mountain': 100,\n",
       " 'forest': 100,\n",
       " 'seal': 100,\n",
       " 'mushroom': 100,\n",
       " 'sea': 100,\n",
       " 'tulip': 100,\n",
       " 'camel': 100,\n",
       " 'butterfly': 100,\n",
       " 'cloud': 100,\n",
       " 'apple': 100,\n",
       " 'skunk': 100,\n",
       " 'streetcar': 100,\n",
       " 'rocket': 100,\n",
       " 'lamp': 100,\n",
       " 'lion': 100,\n",
       " 'wolf': 100,\n",
       " 'rose': 100,\n",
       " 'orange': 100,\n",
       " 'dinosaur': 100,\n",
       " 'chimpanzee': 100,\n",
       " 'can': 100,\n",
       " 'keyboard': 100,\n",
       " 'bicycle': 100,\n",
       " 'chair': 100,\n",
       " 'plate': 100,\n",
       " 'lawn_mower': 100,\n",
       " 'turtle': 100,\n",
       " 'palm_tree': 100,\n",
       " 'shark': 100,\n",
       " 'pickup_truck': 100,\n",
       " 'boy': 100,\n",
       " 'couch': 100,\n",
       " 'house': 100,\n",
       " 'porcupine': 100,\n",
       " 'cockroach': 100,\n",
       " 'clock': 100,\n",
       " 'castle': 100,\n",
       " 'beaver': 100,\n",
       " 'bee': 100,\n",
       " 'bottle': 100,\n",
       " 'pear': 100,\n",
       " 'baby': 100,\n",
       " 'flatfish': 100,\n",
       " 'oak_tree': 100,\n",
       " 'leopard': 100,\n",
       " 'snail': 100,\n",
       " 'crocodile': 100,\n",
       " 'rabbit': 100,\n",
       " 'beetle': 100,\n",
       " 'girl': 100,\n",
       " 'sunflower': 100,\n",
       " 'raccoon': 100,\n",
       " 'train': 100,\n",
       " 'ray': 100,\n",
       " 'trout': 100,\n",
       " 'bowl': 100,\n",
       " 'snake': 100,\n",
       " 'orchid': 100,\n",
       " 'tractor': 100,\n",
       " 'caterpillar': 100,\n",
       " 'bus': 100,\n",
       " 'mouse': 100,\n",
       " 'crab': 100,\n",
       " 'sweet_pepper': 100,\n",
       " 'maple_tree': 100,\n",
       " 'whale': 100,\n",
       " 'skyscraper': 100,\n",
       " 'pine_tree': 100,\n",
       " 'tank': 100,\n",
       " 'cattle': 100,\n",
       " 'man': 100,\n",
       " 'aquarium_fish': 100,\n",
       " 'shrew': 100,\n",
       " 'plain': 100,\n",
       " 'possum': 100,\n",
       " 'lobster': 100,\n",
       " 'hamster': 100,\n",
       " 'television': 100,\n",
       " 'dolphin': 100,\n",
       " 'worm': 100,\n",
       " 'squirrel': 100,\n",
       " 'cup': 100,\n",
       " 'woman': 100,\n",
       " 'bridge': 100,\n",
       " 'wardrobe': 100,\n",
       " 'road': 100,\n",
       " 'lizard': 100,\n",
       " 'elephant': 100,\n",
       " 'spider': 100,\n",
       " 'fox': 100,\n",
       " 'otter': 100,\n",
       " 'poppy': 100,\n",
       " 'willow_tree': 100,\n",
       " 'table': 100,\n",
       " 'kangaroo': 100,\n",
       " 'telephone': 100,\n",
       " 'bed': 100,\n",
       " 'motorcycle': 100,\n",
       " 'bear': 100,\n",
       " 'tiger': 100}"
      ]
     },
     "execution_count": 7,
     "metadata": {},
     "output_type": "execute_result"
    }
   ],
   "source": [
    "test_classes_items = dict()\n",
    "for test_item in test_data:\n",
    "    label = test_data.classes[test_item[1]]\n",
    "    if label not in test_classes_items:\n",
    "        test_classes_items[label] = 1\n",
    "    else:\n",
    "        test_classes_items[label] += 1\n",
    "\n",
    "test_classes_items"
   ]
  },
  {
   "cell_type": "code",
   "execution_count": 8,
   "metadata": {
    "colab": {
     "base_uri": "https://localhost:8080/"
    },
    "id": "zP0hdg-UxdDa",
    "outputId": "e8716f6e-b17b-489c-fe0c-e5144a66cf68"
   },
   "outputs": [],
   "source": [
    "BATCH_SIZE = 128\n",
    "train_dl = DataLoader(train_data, BATCH_SIZE, num_workers=4, pin_memory=True, shuffle=True)\n",
    "test_dl = DataLoader(test_data, BATCH_SIZE, num_workers=4, pin_memory=True)"
   ]
  },
  {
   "cell_type": "code",
   "execution_count": 9,
   "metadata": {
    "colab": {
     "base_uri": "https://localhost:8080/",
     "height": 211
    },
    "id": "Z4xjRpHQxjz4",
    "outputId": "98eb6573-6286-44e0-b26b-e79c60c95cdd"
   },
   "outputs": [
    {
     "name": "stderr",
     "output_type": "stream",
     "text": [
      "Clipping input data to the valid range for imshow with RGB data ([0..1] for floats or [0..255] for integers).\n"
     ]
    },
    {
     "data": {
      "image/png": "[encoded data removed]",
      "text/plain": [
       "<Figure size 2000x2000 with 1 Axes>"
      ]
     },
     "metadata": {},
     "output_type": "display_data"
    },
    {
     "name": "stdout",
     "output_type": "stream",
     "text": [
      "porcupine           ray                 bus                 cup                 orchid              train               crocodile           lion                \n"
     ]
    }
   ],
   "source": [
    "train_8_samples = DataLoader(train_data, 8, num_workers=4, pin_memory=True, shuffle=True)\n",
    "\n",
    "def imshow(img):\n",
    "    img = img / 2 + 0.5     # unnormalize\n",
    "    npimg = img.numpy()\n",
    "    plt.figure(figsize = (20,20))\n",
    "    plt.imshow(np.transpose(npimg, (1, 2, 0)))\n",
    "    plt.show()\n",
    "\n",
    "dataiter = iter(train_8_samples)\n",
    "images, labels =  next(dataiter)\n",
    "\n",
    "# print images\n",
    "imshow(torchvision.utils.make_grid(images))\n",
    "print(''.join(f'{train_data.classes[labels[j]]:20s}' for j in range(8)))"
   ]
  },
  {
   "cell_type": "code",
   "execution_count": 15,
   "metadata": {
    "id": "Tmj_Z4-axpbh"
   },
   "outputs": [],
   "source": [
    "def get_device():\n",
    "    if torch.cuda.is_available():\n",
    "        return torch.device(\"cuda\")\n",
    "    return torch.device(\"cpu\")\n",
    "\n",
    "def to_device(data,device):\n",
    "    if isinstance(data,(list,tuple)):\n",
    "        return [to_device(x,device) for x in data]\n",
    "    return data.to(device,non_blocking=True)\n",
    "\n",
    "\n",
    "class ToDeviceLoader:\n",
    "    def __init__(self,data,device):\n",
    "        self.data = data\n",
    "        self.device = device\n",
    "\n",
    "    def __iter__(self):\n",
    "        for batch in self.data:\n",
    "            yield to_device(batch,self.device)\n",
    "\n",
    "    def __len__(self):\n",
    "        return len(self.data)"
   ]
  },
  {
   "cell_type": "code",
   "execution_count": 16,
   "metadata": {
    "colab": {
     "base_uri": "https://localhost:8080/"
    },
    "id": "rPIO3OgVyFUZ",
    "outputId": "9bdb06b4-c226-4475-8147-97cf01b30c65"
   },
   "outputs": [
    {
     "name": "stdout",
     "output_type": "stream",
     "text": [
      "cpu\n"
     ]
    }
   ],
   "source": [
    "device = get_device()\n",
    "print(device)\n",
    "\n",
    "train_dl = ToDeviceLoader(train_dl, device)\n",
    "test_dl = ToDeviceLoader(test_dl, device)"
   ]
  },
  {
   "cell_type": "code",
   "execution_count": 17,
   "metadata": {
    "id": "sOU0E4vjyJAA"
   },
   "outputs": [],
   "source": [
    "def accuracy(predicted, actual):\n",
    "    _, predictions = torch.max(predicted, dim=1)\n",
    "    return torch.tensor(torch.sum(predictions==actual).item()/len(predictions))"
   ]
  },
  {
   "cell_type": "code",
   "execution_count": 18,
   "metadata": {
    "id": "7hOLEcboyNQA"
   },
   "outputs": [],
   "source": [
    "class BaseModel(nn.Module):\n",
    "    def training_step(self,batch):\n",
    "        images, labels = batch\n",
    "        out = self(images)\n",
    "        loss = F.cross_entropy(out,labels)\n",
    "        return loss\n",
    "\n",
    "    def validation_step(self,batch):\n",
    "        images, labels = batch\n",
    "        out = self(images)\n",
    "        loss = F.cross_entropy(out,labels)\n",
    "        acc = accuracy(out,labels)\n",
    "        return {\"val_loss\":loss.detach(),\"val_acc\":acc}\n",
    "\n",
    "    def validation_epoch_end(self,outputs):\n",
    "        batch_losses = [loss[\"val_loss\"] for loss in outputs]\n",
    "        loss = torch.stack(batch_losses).mean()\n",
    "        batch_accuracy = [accuracy[\"val_acc\"] for accuracy in outputs]\n",
    "        acc = torch.stack(batch_accuracy).mean()\n",
    "        return {\"val_loss\":loss.item(),\"val_acc\":acc.item()}\n",
    "\n",
    "    def epoch_end(self, epoch, result):\n",
    "        print(\"Epoch [{}], last_lr: {:.5f}, train_loss: {:.4f}, val_loss: {:.4f}, val_acc: {:.4f}\".format(\n",
    "            epoch, result['lrs'][-1], result['train_loss'], result['val_loss'], result['val_acc']))"
   ]
  },
  {
   "cell_type": "code",
   "execution_count": 20,
   "metadata": {},
   "outputs": [],
   "source": [
    "import torch\n",
    "import torch.nn as nn\n",
    "import torch.nn.functional as F\n",
    "\n",
    "def conv_shortcut(in_channel, out_channel, stride):\n",
    "    layers = [nn.Conv2d(in_channel, out_channel, kernel_size=(1,1), stride=(stride, stride)),\n",
    "             nn.BatchNorm2d(out_channel)]\n",
    "    return nn.Sequential(*layers)\n",
    "\n",
    "def block(in_channel, out_channel, k_size, stride, conv=False):\n",
    "    first_layers = [nn.Conv2d(in_channel, out_channel[0], kernel_size=(1,1), stride=(1,1)),\n",
    "                    nn.BatchNorm2d(out_channel[0]),\n",
    "                    nn.ReLU(inplace=True)]\n",
    "    if conv:\n",
    "        first_layers[0].stride = (stride, stride)\n",
    "\n",
    "    second_layers = [nn.Conv2d(out_channel[0], out_channel[1], kernel_size=(k_size, k_size), stride=(1,1), padding=1),\n",
    "                     nn.BatchNorm2d(out_channel[1])]\n",
    "\n",
    "    layers = first_layers + second_layers\n",
    "    return nn.Sequential(*layers)\n",
    "\n",
    "class ResNet(nn.Module):\n",
    "    def __init__(self, in_channels, num_classes):\n",
    "        super().__init__()\n",
    "\n",
    "        self.stg1 = nn.Sequential(\n",
    "            nn.Conv2d(in_channels=in_channels, out_channels=64, kernel_size=(3,3),\n",
    "                      stride=(1,1), padding=1),\n",
    "            nn.BatchNorm2d(64),\n",
    "            nn.ReLU(inplace=True),\n",
    "            nn.MaxPool2d(kernel_size=3, stride=2, padding=1)\n",
    "        )\n",
    "\n",
    "        # Stage 2\n",
    "        self.convShortcut2 = conv_shortcut(64, 256, 1)\n",
    "        self.conv2 = block(64, [64, 256], 3, 1, conv=True)\n",
    "        self.ident2 = block(256, [64, 256], 3, 1)\n",
    "\n",
    "        # Stage 3\n",
    "        self.convShortcut3 = conv_shortcut(256, 512, 2)\n",
    "        self.conv3 = block(256, [128, 512], 3, 2, conv=True)\n",
    "        self.ident3 = block(512, [128, 512], 3, 1)\n",
    "\n",
    "        # Stage 4\n",
    "        self.convShortcut4 = conv_shortcut(512, 1024, 2)\n",
    "        self.conv4 = block(512, [256, 1024], 3, 2, conv=True)\n",
    "        self.ident4 = block(1024, [256, 1024], 3, 1)\n",
    "\n",
    "        # Classifier\n",
    "        self.classifier = nn.Sequential(\n",
    "            nn.AdaptiveAvgPool2d((1, 1)),\n",
    "            nn.Flatten(),\n",
    "            nn.Linear(1024, num_classes)\n",
    "        )\n",
    "\n",
    "    def forward(self, x):\n",
    "        x = self.stg1(x)\n",
    "\n",
    "        # Stage 2\n",
    "        x = F.relu(self.conv2(x) + self.convShortcut2(x))\n",
    "        x = F.relu(self.ident2(x) + x)\n",
    "\n",
    "        # Stage 3\n",
    "        x = F.relu(self.conv3(x) + self.convShortcut3(x))\n",
    "        x = F.relu(self.ident3(x) + x)\n",
    "\n",
    "        # Stage 4\n",
    "        x = F.relu(self.conv4(x) + self.convShortcut4(x))\n",
    "        x = F.relu(self.ident4(x) + x)\n",
    "\n",
    "        # Classifier\n",
    "        x = self.classifier(x)\n",
    "        \n",
    "        return x\n",
    "\n",
    "# Example usage\n",
    "# model = ResNet(in_channels=3, num_classes=1000)\n",
    "# inputs = torch.randn(1, 3, 224, 224)\n",
    "# outputs = model(inputs)\n",
    "# print(outputs.shape)\n"
   ]
  },
  {
   "cell_type": "code",
   "execution_count": 21,
   "metadata": {
    "id": "6muNa0Reyc-t"
   },
   "outputs": [],
   "source": [
    "model = ResNet(3,100)"
   ]
  },
  {
   "cell_type": "code",
   "execution_count": 22,
   "metadata": {
    "id": "VtrUJIlHyf1l"
   },
   "outputs": [],
   "source": [
    "model = to_device(model, device)"
   ]
  },
  {
   "cell_type": "code",
   "execution_count": 23,
   "metadata": {
    "id": "ma8oUBWkyiN0"
   },
   "outputs": [],
   "source": [
    "@torch.no_grad()\n",
    "def evaluate(model,test_dl):\n",
    "    model.eval()\n",
    "    outputs = [model.validation_step(batch) for batch in test_dl]\n",
    "    return model.validation_epoch_end(outputs)"
   ]
  },
  {
   "cell_type": "code",
   "execution_count": 24,
   "metadata": {
    "id": "740qbIOMylkr"
   },
   "outputs": [],
   "source": [
    "def get_lr(optimizer):\n",
    "    for param_group in optimizer.param_groups:\n",
    "        return param_group['lr']\n",
    "\n",
    "def fit (epochs, train_dl, test_dl, model, optimizer, max_lr, weight_decay, scheduler, grad_clip=None):\n",
    "    torch.cuda.empty_cache()\n",
    "\n",
    "    history = []\n",
    "\n",
    "    optimizer = optimizer(model.parameters(), max_lr, weight_decay = weight_decay)\n",
    "\n",
    "    scheduler = scheduler(optimizer, max_lr, epochs=epochs, steps_per_epoch=len(train_dl))\n",
    "\n",
    "    for epoch in range(epochs):\n",
    "        model.train()\n",
    "\n",
    "        train_loss = []\n",
    "\n",
    "        lrs = []\n",
    "\n",
    "        for batch in train_dl:\n",
    "            loss = model.training_step(batch)\n",
    "\n",
    "            train_loss.append(loss)\n",
    "\n",
    "            loss.backward()\n",
    "\n",
    "            if grad_clip:\n",
    "                nn.utils.clip_grad_value_(model.parameters(), grad_clip)\n",
    "\n",
    "            optimizer.step()\n",
    "            optimizer.zero_grad()\n",
    "\n",
    "            scheduler.step()\n",
    "            lrs.append(get_lr(optimizer))\n",
    "        result = evaluate(model, test_dl)\n",
    "        result[\"train_loss\"] = torch.stack(train_loss).mean().item()\n",
    "        result[\"lrs\"] = lrs\n",
    "\n",
    "        model.epoch_end(epoch,result)\n",
    "        history.append(result)\n",
    "\n",
    "    return history\n"
   ]
  },
  {
   "cell_type": "code",
   "execution_count": 25,
   "metadata": {
    "id": "dRyaMScjyrBH"
   },
   "outputs": [],
   "source": [
    "epochs = 100\n",
    "optimizer = torch.optim.Adam\n",
    "max_lr = 1e-3\n",
    "grad_clip = 0.1\n",
    "weight_decay = 1e-5\n",
    "scheduler = torch.optim.lr_scheduler.OneCycleLR"
   ]
  },
  {
   "cell_type": "code",
   "execution_count": 26,
   "metadata": {
    "id": "7KhfgKA4yt1z"
   },
   "outputs": [
    {
     "ename": "AttributeError",
     "evalue": "'ResNet' object has no attribute 'training_step'",
     "output_type": "error",
     "traceback": [
      "\u001b[1;31m---------------------------------------------------------------------------\u001b[0m",
      "\u001b[1;31mAttributeError\u001b[0m                            Traceback (most recent call last)",
      "Cell \u001b[1;32mIn[26], line 1\u001b[0m\n\u001b[1;32m----> 1\u001b[0m history \u001b[38;5;241m=\u001b[39m fit(epochs\u001b[38;5;241m=\u001b[39mepochs, train_dl\u001b[38;5;241m=\u001b[39mtrain_dl, test_dl\u001b[38;5;241m=\u001b[39mtest_dl, model\u001b[38;5;241m=\u001b[39mmodel,\n\u001b[0;32m      2\u001b[0m               optimizer\u001b[38;5;241m=\u001b[39moptimizer, max_lr\u001b[38;5;241m=\u001b[39mmax_lr, grad_clip\u001b[38;5;241m=\u001b[39mgrad_clip,\n\u001b[0;32m      3\u001b[0m               weight_decay\u001b[38;5;241m=\u001b[39mweight_decay, scheduler\u001b[38;5;241m=\u001b[39mtorch\u001b[38;5;241m.\u001b[39moptim\u001b[38;5;241m.\u001b[39mlr_scheduler\u001b[38;5;241m.\u001b[39mOneCycleLR)\n",
      "Cell \u001b[1;32mIn[24], line 22\u001b[0m, in \u001b[0;36mfit\u001b[1;34m(epochs, train_dl, test_dl, model, optimizer, max_lr, weight_decay, scheduler, grad_clip)\u001b[0m\n\u001b[0;32m     19\u001b[0m lrs \u001b[38;5;241m=\u001b[39m []\n\u001b[0;32m     21\u001b[0m \u001b[38;5;28;01mfor\u001b[39;00m batch \u001b[38;5;129;01min\u001b[39;00m train_dl:\n\u001b[1;32m---> 22\u001b[0m     loss \u001b[38;5;241m=\u001b[39m model\u001b[38;5;241m.\u001b[39mtraining_step(batch)\n\u001b[0;32m     24\u001b[0m     train_loss\u001b[38;5;241m.\u001b[39mappend(loss)\n\u001b[0;32m     26\u001b[0m     loss\u001b[38;5;241m.\u001b[39mbackward()\n",
      "File \u001b[1;32m~\\anaconda3\\Lib\\site-packages\\torch\\nn\\modules\\module.py:1709\u001b[0m, in \u001b[0;36mModule.__getattr__\u001b[1;34m(self, name)\u001b[0m\n\u001b[0;32m   1707\u001b[0m     \u001b[38;5;28;01mif\u001b[39;00m name \u001b[38;5;129;01min\u001b[39;00m modules:\n\u001b[0;32m   1708\u001b[0m         \u001b[38;5;28;01mreturn\u001b[39;00m modules[name]\n\u001b[1;32m-> 1709\u001b[0m \u001b[38;5;28;01mraise\u001b[39;00m \u001b[38;5;167;01mAttributeError\u001b[39;00m(\u001b[38;5;124mf\u001b[39m\u001b[38;5;124m\"\u001b[39m\u001b[38;5;124m'\u001b[39m\u001b[38;5;132;01m{\u001b[39;00m\u001b[38;5;28mtype\u001b[39m(\u001b[38;5;28mself\u001b[39m)\u001b[38;5;241m.\u001b[39m\u001b[38;5;18m__name__\u001b[39m\u001b[38;5;132;01m}\u001b[39;00m\u001b[38;5;124m'\u001b[39m\u001b[38;5;124m object has no attribute \u001b[39m\u001b[38;5;124m'\u001b[39m\u001b[38;5;132;01m{\u001b[39;00mname\u001b[38;5;132;01m}\u001b[39;00m\u001b[38;5;124m'\u001b[39m\u001b[38;5;124m\"\u001b[39m)\n",
      "\u001b[1;31mAttributeError\u001b[0m: 'ResNet' object has no attribute 'training_step'"
     ]
    }
   ],
   "source": [
    "history = fit(epochs=epochs, train_dl=train_dl, test_dl=test_dl, model=model,\n",
    "              optimizer=optimizer, max_lr=max_lr, grad_clip=grad_clip,\n",
    "              weight_decay=weight_decay, scheduler=torch.optim.lr_scheduler.OneCycleLR)"
   ]
  },
  {
   "cell_type": "code",
   "execution_count": null,
   "metadata": {
    "id": "kxqE3qzgyxGU"
   },
   "outputs": [],
   "source": [
    "def plot_acc(history):\n",
    "    plt.plot([x[\"val_acc\"] for x in history],\"-x\")\n",
    "    plt.xlabel(\"Epoch\")\n",
    "    plt.ylabel(\"Accuracy\")\n",
    "\n",
    "def plot_loss(history):\n",
    "    plt.plot([x.get(\"train_loss\") for x in history], \"-bx\")\n",
    "    plt.plot([x[\"val_loss\"] for x in history],\"-rx\")\n",
    "    plt.xlabel(\"Epoch\")\n",
    "    plt.ylabel(\"Loss\")\n",
    "    plt.legend([\"train loss\",\"val loss\"])\n",
    "\n",
    "def plot_lrs(history):\n",
    "    plt.plot(np.concatenate([x.get(\"lrs\",[]) for x in history]))\n",
    "    plt.xlabel(\"Batch number\")\n",
    "    plt.ylabel(\"Learning rate\")"
   ]
  },
  {
   "cell_type": "code",
   "execution_count": 31,
   "metadata": {
    "id": "QFre4NzP0Yi3"
   },
   "outputs": [
    {
     "ename": "IndexError",
     "evalue": "Target 17 is out of bounds.",
     "output_type": "error",
     "traceback": [
      "\u001b[1;31m---------------------------------------------------------------------------\u001b[0m",
      "\u001b[1;31mIndexError\u001b[0m                                Traceback (most recent call last)",
      "Cell \u001b[1;32mIn[31], line 113\u001b[0m\n\u001b[0;32m    111\u001b[0m optimizer\u001b[38;5;241m.\u001b[39mzero_grad()\n\u001b[0;32m    112\u001b[0m outputs \u001b[38;5;241m=\u001b[39m model(inputs)\n\u001b[1;32m--> 113\u001b[0m loss \u001b[38;5;241m=\u001b[39m criterion(outputs, labels)\n\u001b[0;32m    114\u001b[0m loss\u001b[38;5;241m.\u001b[39mbackward()\n\u001b[0;32m    115\u001b[0m optimizer\u001b[38;5;241m.\u001b[39mstep()\n",
      "File \u001b[1;32m~\\anaconda3\\Lib\\site-packages\\torch\\nn\\modules\\module.py:1532\u001b[0m, in \u001b[0;36mModule._wrapped_call_impl\u001b[1;34m(self, *args, **kwargs)\u001b[0m\n\u001b[0;32m   1530\u001b[0m     \u001b[38;5;28;01mreturn\u001b[39;00m \u001b[38;5;28mself\u001b[39m\u001b[38;5;241m.\u001b[39m_compiled_call_impl(\u001b[38;5;241m*\u001b[39margs, \u001b[38;5;241m*\u001b[39m\u001b[38;5;241m*\u001b[39mkwargs)  \u001b[38;5;66;03m# type: ignore[misc]\u001b[39;00m\n\u001b[0;32m   1531\u001b[0m \u001b[38;5;28;01melse\u001b[39;00m:\n\u001b[1;32m-> 1532\u001b[0m     \u001b[38;5;28;01mreturn\u001b[39;00m \u001b[38;5;28mself\u001b[39m\u001b[38;5;241m.\u001b[39m_call_impl(\u001b[38;5;241m*\u001b[39margs, \u001b[38;5;241m*\u001b[39m\u001b[38;5;241m*\u001b[39mkwargs)\n",
      "File \u001b[1;32m~\\anaconda3\\Lib\\site-packages\\torch\\nn\\modules\\module.py:1541\u001b[0m, in \u001b[0;36mModule._call_impl\u001b[1;34m(self, *args, **kwargs)\u001b[0m\n\u001b[0;32m   1536\u001b[0m \u001b[38;5;66;03m# If we don't have any hooks, we want to skip the rest of the logic in\u001b[39;00m\n\u001b[0;32m   1537\u001b[0m \u001b[38;5;66;03m# this function, and just call forward.\u001b[39;00m\n\u001b[0;32m   1538\u001b[0m \u001b[38;5;28;01mif\u001b[39;00m \u001b[38;5;129;01mnot\u001b[39;00m (\u001b[38;5;28mself\u001b[39m\u001b[38;5;241m.\u001b[39m_backward_hooks \u001b[38;5;129;01mor\u001b[39;00m \u001b[38;5;28mself\u001b[39m\u001b[38;5;241m.\u001b[39m_backward_pre_hooks \u001b[38;5;129;01mor\u001b[39;00m \u001b[38;5;28mself\u001b[39m\u001b[38;5;241m.\u001b[39m_forward_hooks \u001b[38;5;129;01mor\u001b[39;00m \u001b[38;5;28mself\u001b[39m\u001b[38;5;241m.\u001b[39m_forward_pre_hooks\n\u001b[0;32m   1539\u001b[0m         \u001b[38;5;129;01mor\u001b[39;00m _global_backward_pre_hooks \u001b[38;5;129;01mor\u001b[39;00m _global_backward_hooks\n\u001b[0;32m   1540\u001b[0m         \u001b[38;5;129;01mor\u001b[39;00m _global_forward_hooks \u001b[38;5;129;01mor\u001b[39;00m _global_forward_pre_hooks):\n\u001b[1;32m-> 1541\u001b[0m     \u001b[38;5;28;01mreturn\u001b[39;00m forward_call(\u001b[38;5;241m*\u001b[39margs, \u001b[38;5;241m*\u001b[39m\u001b[38;5;241m*\u001b[39mkwargs)\n\u001b[0;32m   1543\u001b[0m \u001b[38;5;28;01mtry\u001b[39;00m:\n\u001b[0;32m   1544\u001b[0m     result \u001b[38;5;241m=\u001b[39m \u001b[38;5;28;01mNone\u001b[39;00m\n",
      "File \u001b[1;32m~\\anaconda3\\Lib\\site-packages\\torch\\nn\\modules\\loss.py:1185\u001b[0m, in \u001b[0;36mCrossEntropyLoss.forward\u001b[1;34m(self, input, target)\u001b[0m\n\u001b[0;32m   1184\u001b[0m \u001b[38;5;28;01mdef\u001b[39;00m \u001b[38;5;21mforward\u001b[39m(\u001b[38;5;28mself\u001b[39m, \u001b[38;5;28minput\u001b[39m: Tensor, target: Tensor) \u001b[38;5;241m-\u001b[39m\u001b[38;5;241m>\u001b[39m Tensor:\n\u001b[1;32m-> 1185\u001b[0m     \u001b[38;5;28;01mreturn\u001b[39;00m F\u001b[38;5;241m.\u001b[39mcross_entropy(\u001b[38;5;28minput\u001b[39m, target, weight\u001b[38;5;241m=\u001b[39m\u001b[38;5;28mself\u001b[39m\u001b[38;5;241m.\u001b[39mweight,\n\u001b[0;32m   1186\u001b[0m                            ignore_index\u001b[38;5;241m=\u001b[39m\u001b[38;5;28mself\u001b[39m\u001b[38;5;241m.\u001b[39mignore_index, reduction\u001b[38;5;241m=\u001b[39m\u001b[38;5;28mself\u001b[39m\u001b[38;5;241m.\u001b[39mreduction,\n\u001b[0;32m   1187\u001b[0m                            label_smoothing\u001b[38;5;241m=\u001b[39m\u001b[38;5;28mself\u001b[39m\u001b[38;5;241m.\u001b[39mlabel_smoothing)\n",
      "File \u001b[1;32m~\\anaconda3\\Lib\\site-packages\\torch\\nn\\functional.py:3086\u001b[0m, in \u001b[0;36mcross_entropy\u001b[1;34m(input, target, weight, size_average, ignore_index, reduce, reduction, label_smoothing)\u001b[0m\n\u001b[0;32m   3084\u001b[0m \u001b[38;5;28;01mif\u001b[39;00m size_average \u001b[38;5;129;01mis\u001b[39;00m \u001b[38;5;129;01mnot\u001b[39;00m \u001b[38;5;28;01mNone\u001b[39;00m \u001b[38;5;129;01mor\u001b[39;00m reduce \u001b[38;5;129;01mis\u001b[39;00m \u001b[38;5;129;01mnot\u001b[39;00m \u001b[38;5;28;01mNone\u001b[39;00m:\n\u001b[0;32m   3085\u001b[0m     reduction \u001b[38;5;241m=\u001b[39m _Reduction\u001b[38;5;241m.\u001b[39mlegacy_get_string(size_average, reduce)\n\u001b[1;32m-> 3086\u001b[0m \u001b[38;5;28;01mreturn\u001b[39;00m torch\u001b[38;5;241m.\u001b[39m_C\u001b[38;5;241m.\u001b[39m_nn\u001b[38;5;241m.\u001b[39mcross_entropy_loss(\u001b[38;5;28minput\u001b[39m, target, weight, _Reduction\u001b[38;5;241m.\u001b[39mget_enum(reduction), ignore_index, label_smoothing)\n",
      "\u001b[1;31mIndexError\u001b[0m: Target 17 is out of bounds."
     ]
    }
   ],
   "source": []
  },
  {
   "cell_type": "code",
   "execution_count": 28,
   "metadata": {},
   "outputs": [
    {
     "data": {
      "text/plain": [
       "<__main__.ToDeviceLoader at 0x1d4e3c18790>"
      ]
     },
     "execution_count": 28,
     "metadata": {},
     "output_type": "execute_result"
    }
   ],
   "source": [
    "train_dl"
   ]
  },
  {
   "cell_type": "code",
   "execution_count": 29,
   "metadata": {},
   "outputs": [
    {
     "data": {
      "text/plain": [
       "<__main__.ToDeviceLoader at 0x1d4e3c18bd0>"
      ]
     },
     "execution_count": 29,
     "metadata": {},
     "output_type": "execute_result"
    }
   ],
   "source": [
    "test_dl"
   ]
  },
  {
   "cell_type": "code",
   "execution_count": null,
   "metadata": {},
   "outputs": [
    {
     "name": "stdout",
     "output_type": "stream",
     "text": [
      "Downloading https://www.cs.toronto.edu/~kriz/cifar-10-python.tar.gz to ./data\\cifar-10-python.tar.gz\n"
     ]
    },
    {
     "name": "stderr",
     "output_type": "stream",
     "text": [
      "100%|████████████████████████████████████████████████████████████████| 170498071/170498071 [07:43<00:00, 368241.04it/s]\n"
     ]
    },
    {
     "name": "stdout",
     "output_type": "stream",
     "text": [
      "Extracting ./data\\cifar-10-python.tar.gz to ./data\n",
      "Files already downloaded and verified\n"
     ]
    }
   ],
   "source": [
    "import torch\n",
    "import torch.nn as nn\n",
    "import torch.optim as optim\n",
    "from torch.utils.data import DataLoader, TensorDataset\n",
    "import torchvision.transforms as transforms\n",
    "import torchvision.datasets as datasets\n",
    "\n",
    "# Define the ResNet model\n",
    "class ResNet(nn.Module):\n",
    "    def __init__(self, in_channels, num_classes):\n",
    "        super().__init__()\n",
    "\n",
    "        self.stg1 = nn.Sequential(\n",
    "            nn.Conv2d(in_channels=in_channels, out_channels=64, kernel_size=(3, 3),\n",
    "                      stride=(1, 1), padding=1),\n",
    "            nn.BatchNorm2d(64),\n",
    "            nn.ReLU(inplace=True),\n",
    "            nn.MaxPool2d(kernel_size=3, stride=2, padding=1)\n",
    "        )\n",
    "\n",
    "        # Stage 2\n",
    "        self.convShortcut2 = conv_shortcut(64, 256, 1)\n",
    "        self.conv2 = block(64, [64, 256], 3, 1, conv=True)\n",
    "        self.ident2 = block(256, [64, 256], 3, 1)\n",
    "\n",
    "        # Stage 3\n",
    "        self.convShortcut3 = conv_shortcut(256, 512, 2)\n",
    "        self.conv3 = block(256, [128, 512], 3, 2, conv=True)\n",
    "        self.ident3 = block(512, [128, 512], 3, 1)\n",
    "\n",
    "        # Stage 4\n",
    "        self.convShortcut4 = conv_shortcut(512, 1024, 2)\n",
    "        self.conv4 = block(512, [256, 1024], 3, 2, conv=True)\n",
    "        self.ident4 = block(1024, [256, 1024], 3, 1)\n",
    "\n",
    "        # Classifier\n",
    "        self.classifier = nn.Sequential(\n",
    "            nn.AdaptiveAvgPool2d((1, 1)),\n",
    "            nn.Flatten(),\n",
    "            nn.Linear(1024, num_classes)\n",
    "        )\n",
    "\n",
    "    def forward(self, x):\n",
    "        x = self.stg1(x)\n",
    "\n",
    "        # Stage 2\n",
    "        x = F.relu(self.conv2(x) + self.convShortcut2(x))\n",
    "        x = F.relu(self.ident2(x) + x)\n",
    "\n",
    "        # Stage 3\n",
    "        x = F.relu(self.conv3(x) + self.convShortcut3(x))\n",
    "        x = F.relu(self.ident3(x) + x)\n",
    "\n",
    "        # Stage 4\n",
    "        x = F.relu(self.conv4(x) + self.convShortcut4(x))\n",
    "        x = F.relu(self.ident4(x) + x)\n",
    "\n",
    "        # Classifier\n",
    "        x = self.classifier(x)\n",
    "        \n",
    "        return x\n",
    "\n",
    "def conv_shortcut(in_channel, out_channel, stride):\n",
    "    layers = [nn.Conv2d(in_channel, out_channel, kernel_size=(1, 1), stride=(stride, stride)),\n",
    "              nn.BatchNorm2d(out_channel)]\n",
    "    return nn.Sequential(*layers)\n",
    "\n",
    "def block(in_channel, out_channel, k_size, stride, conv=False):\n",
    "    first_layers = [nn.Conv2d(in_channel, out_channel[0], kernel_size=(1, 1), stride=(1, 1)),\n",
    "                    nn.BatchNorm2d(out_channel[0]),\n",
    "                    nn.ReLU(inplace=True)]\n",
    "    if conv:\n",
    "        first_layers[0].stride = (stride, stride)\n",
    "\n",
    "    second_layers = [nn.Conv2d(out_channel[0], out_channel[1], kernel_size=(k_size, k_size), stride=(1, 1), padding=1),\n",
    "                     nn.BatchNorm2d(out_channel[1])]\n",
    "\n",
    "    layers = first_layers + second_layers\n",
    "    return nn.Sequential(*layers)\n",
    "\n",
    "# Training settings\n",
    "batch_size = 64\n",
    "learning_rate = 0.001\n",
    "num_epochs = 10\n",
    "\n",
    "# Load dataset (CIFAR-10 as an example)\n",
    "transform = transforms.Compose([\n",
    "    transforms.Resize((32, 32)),\n",
    "    transforms.ToTensor(),\n",
    "    transforms.Normalize((0.5,), (0.5,))\n",
    "])\n",
    "\n",
    "train_dataset = datasets.CIFAR10(root='./data', train=True, download=True, transform=transform)\n",
    "train_loader = DataLoader(train_dataset, batch_size=batch_size, shuffle=True)\n",
    "\n",
    "test_dataset = datasets.CIFAR10(root='./data', train=False, download=True, transform=transform)\n",
    "test_loader = DataLoader(test_dataset, batch_size=batch_size, shuffle=False)\n",
    "\n",
    "# Model, Loss, Optimizer\n",
    "device = torch.device(\"cuda\" if torch.cuda.is_available() else \"cpu\")\n",
    "model = ResNet(in_channels=3, num_classes=10).to(device)\n",
    "criterion = nn.CrossEntropyLoss()\n",
    "optimizer = optim.Adam(model.parameters(), lr=learning_rate)\n",
    "\n",
    "# Training loop\n",
    "for epoch in range(num_epochs):\n",
    "    model.train()\n",
    "    running_loss = 0.0\n",
    "    for inputs, labels in train_loader:\n",
    "        inputs, labels = inputs.to(device), labels.to(device)\n",
    "        \n",
    "        optimizer.zero_grad()\n",
    "        outputs = model(inputs)\n",
    "        loss = criterion(outputs, labels)\n",
    "        loss.backward()\n",
    "        optimizer.step()\n",
    "        \n",
    "        running_loss += loss.item()\n",
    "    \n",
    "    print(f\"Epoch [{epoch+1}/{num_epochs}], Loss: {running_loss/len(train_loader)}\")\n",
    "\n",
    "# Testing loop\n",
    "model.eval()\n",
    "correct = 0\n",
    "total = 0\n",
    "with torch.no_grad():\n",
    "    for inputs, labels in test_loader:\n",
    "        inputs, labels = inputs.to(device), labels.to(device)\n",
    "        outputs = model(inputs)\n",
    "        _, predicted = torch.max(outputs.data, 1)\n",
    "        total += labels.size(0)\n",
    "        correct += (predicted == labels).sum().item()\n",
    "\n",
    "print(f'Accuracy: {100 * correct / total}%')\n",
    "\n"
   ]
  },
  {
   "cell_type": "code",
   "execution_count": null,
   "metadata": {},
   "outputs": [],
   "source": []
  }
 ],
 "metadata": {
  "colab": {
   "provenance": []
  },
  "kernelspec": {
   "display_name": "Python 3 (ipykernel)",
   "language": "python",
   "name": "python3"
  },
  "language_info": {
   "codemirror_mode": {
    "name": "ipython",
    "version": 3
   },
   "file_extension": ".py",
   "mimetype": "text/x-python",
   "name": "python",
   "nbconvert_exporter": "python",
   "pygments_lexer": "ipython3",
   "version": "3.11.7"
  }
 },
 "nbformat": 4,
 "nbformat_minor": 4
}
